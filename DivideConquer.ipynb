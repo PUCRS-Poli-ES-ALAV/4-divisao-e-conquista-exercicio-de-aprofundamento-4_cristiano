{
 "cells": [
  {
   "cell_type": "code",
   "execution_count": 4,
   "source": [
    "import numpy as np"
   ],
   "outputs": [],
   "metadata": {}
  },
  {
   "cell_type": "code",
   "execution_count": 39,
   "source": [
    "\r\n",
    "def  merge(lst_a, lst_b):\r\n",
    "    \r\n",
    "    size_a = len(lst_a)\r\n",
    "    size_b = len(lst_b)\r\n",
    "    while(size_a >= 0 and size_b >= 0):\r\n",
    "        continue\r\n",
    "    if len(lst_a) > len(lst_b):\r\n",
    "        for a in lst_a:\r\n",
    "\r\n",
    "        return lst_b + lst_a\r\n",
    "    return lst_a + lst_b\r\n",
    "    \r\n",
    "\r\n",
    "def merge_sort(elements):\r\n",
    "    '''\r\n",
    "    MERGE-SORT(L: List with n elements) : Ordered list with n elements\r\n",
    "        IF (list L has one element)\r\n",
    "            RETURN L.\r\n",
    "        Divide the list into two halves A and B.\r\n",
    "        A ← MERGE-SORT(A).\r\n",
    "        B ← MERGE-SORT(B).\r\n",
    "        L ← MERGE(A, B).\r\n",
    "        RETURN L. \r\n",
    "    '''\r\n",
    "    if elements == None or len(elements) <=1:\r\n",
    "        return elements\r\n",
    "    \r\n",
    "    size = int(len(elements)/2)\r\n",
    "    a_segment = elements[0:size]\r\n",
    "    b_segment = elements[size: len(elements)]\r\n",
    "\r\n",
    "    sorted_a = merge_sort(a_segment)\r\n",
    "    sorted_b = merge_sort(b_segment)\r\n",
    "    \r\n",
    "    merged = merge(sorted_a, sorted_b)\r\n",
    "\r\n",
    "    return merged\r\n"
   ],
   "outputs": [],
   "metadata": {}
  },
  {
   "cell_type": "code",
   "execution_count": 43,
   "source": [
    "elements = list(np.random.random_integers(0, 10, 10))\r\n",
    "print(elements)\r\n",
    "\r\n",
    "print(merge_sort(elements))"
   ],
   "outputs": [
    {
     "output_type": "stream",
     "name": "stdout",
     "text": [
      "[6, 6, 7, 8, 3, 3, 7, 6, 9, 6]\n",
      "[3, 8, 7, 6, 6, 6, 6, 9, 3, 7]\n"
     ]
    },
    {
     "output_type": "stream",
     "name": "stderr",
     "text": [
      "C:\\Users\\CRISTI~1.MAR\\AppData\\Local\\Temp/ipykernel_11896/1747375932.py:1: DeprecationWarning: This function is deprecated. Please call randint(0, 10 + 1) instead\n",
      "  elements = list(np.random.random_integers(0, 10, 10))\n"
     ]
    }
   ],
   "metadata": {}
  },
  {
   "cell_type": "code",
   "execution_count": 41,
   "source": [
    "#run merge_sort()\r\n",
    "elements = list(np.random.random_integers(0, 10, 11))\r\n",
    "print(elements)\r\n",
    "size = int(len(elements)/2)\r\n",
    "print(size)\r\n",
    "print(elements[0:size])\r\n",
    "print(elements[size: len(elements)])\r\n",
    "aux = list(elements[0:size])\r\n",
    "print('merged: ', aux + list(elements[size: len(elements)]))\r\n",
    "\r\n"
   ],
   "outputs": [
    {
     "output_type": "stream",
     "name": "stdout",
     "text": [
      "[7, 7, 7, 3, 8, 0, 0, 8, 5, 6, 7]\n",
      "5\n",
      "[7, 7, 7, 3, 8]\n",
      "[0, 0, 8, 5, 6, 7]\n",
      "merged:  [7, 7, 7, 3, 8, 0, 0, 8, 5, 6, 7]\n"
     ]
    },
    {
     "output_type": "stream",
     "name": "stderr",
     "text": [
      "C:\\Users\\CRISTI~1.MAR\\AppData\\Local\\Temp/ipykernel_11896/1746710238.py:2: DeprecationWarning: This function is deprecated. Please call randint(0, 10 + 1) instead\n",
      "  elements = list(np.random.random_integers(0, 10, 11))\n"
     ]
    }
   ],
   "metadata": {}
  },
  {
   "cell_type": "code",
   "execution_count": null,
   "source": [],
   "outputs": [],
   "metadata": {}
  }
 ],
 "metadata": {
  "orig_nbformat": 4,
  "language_info": {
   "name": "python",
   "version": "3.8.11",
   "mimetype": "text/x-python",
   "codemirror_mode": {
    "name": "ipython",
    "version": 3
   },
   "pygments_lexer": "ipython3",
   "nbconvert_exporter": "python",
   "file_extension": ".py"
  },
  "kernelspec": {
   "name": "python3",
   "display_name": "Python 3.8.11 64-bit"
  },
  "interpreter": {
   "hash": "b3ba2566441a7c06988d0923437866b63cedc61552a5af99d1f4fb67d367b25f"
  }
 },
 "nbformat": 4,
 "nbformat_minor": 2
}