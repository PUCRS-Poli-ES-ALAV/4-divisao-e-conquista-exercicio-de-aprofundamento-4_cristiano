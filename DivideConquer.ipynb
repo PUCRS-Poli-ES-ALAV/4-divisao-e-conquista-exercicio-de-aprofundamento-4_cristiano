{
 "cells": [
  {
   "cell_type": "code",
   "execution_count": null,
   "source": [
    "import numpy as np"
   ],
   "outputs": [],
   "metadata": {}
  },
  {
   "cell_type": "code",
   "execution_count": null,
   "source": [
    "def  merge(lst_a, lst_b):\r\n",
    "    \r\n",
    "    lst_a = sort(lst_a)\r\n",
    "    lst_b = sort(lst_b)\r\n",
    "    return sort(lst_a + lst_b)\r\n",
    "\r\n",
    "def sort(lst_values):\r\n",
    "    swap = True\r\n",
    "    max_idx = 0\r\n",
    "    max_value = lst_values[max_idx]\r\n",
    "    print(max_value)\r\n",
    "    while swap == True:\r\n",
    "        swap = False\r\n",
    "        for i in range(len(lst_values)):\r\n",
    "            if max_value > lst_values[i]:\r\n",
    "                swap = True\r\n",
    "                temp = lst_values[i]\r\n",
    "                lst_values[i] = lst_values[max_idx]\r\n",
    "                lst_values[max_idx] = temp\r\n",
    "                max_idx = i\r\n",
    "                max_value = lst_values[i]\r\n",
    "                print(lst_values)\r\n",
    "    \r\n",
    "    return lst_values\r\n",
    "\r\n",
    "def merge_sort(elements):\r\n",
    "    '''\r\n",
    "    MERGE-SORT(L: List with n elements) : Ordered list with n elements\r\n",
    "        IF (list L has one element)\r\n",
    "            RETURN L.\r\n",
    "        Divide the list into two halves A and B.\r\n",
    "        A ← MERGE-SORT(A).\r\n",
    "        B ← MERGE-SORT(B).\r\n",
    "        L ← MERGE(A, B).\r\n",
    "        RETURN L. \r\n",
    "    '''\r\n",
    "    if elements == None or len(elements) <=1:\r\n",
    "        return elements\r\n",
    "    \r\n",
    "    size = int(len(elements)/2)\r\n",
    "    a_segment = elements[0:size]\r\n",
    "    b_segment = elements[size: len(elements)]\r\n",
    "\r\n",
    "    sorted_a = merge_sort(a_segment)\r\n",
    "    sorted_b = merge_sort(b_segment)\r\n",
    "    \r\n",
    "    merged = merge(sorted_a, sorted_b)\r\n",
    "    return merged"
   ],
   "outputs": [],
   "metadata": {}
  },
  {
   "cell_type": "code",
   "execution_count": 19,
   "source": [
    "elements = list(np.random.random_integers(0, 10, 10))\r\n",
    "print(elements)\r\n",
    "\r\n",
    "print(sort(elements))"
   ],
   "outputs": [],
   "metadata": {}
  },
  {
   "cell_type": "code",
   "execution_count": null,
   "source": [
    "#run merge_sort()\r\n",
    "elements = list(np.random.random_integers(0, 10, 11))\r\n",
    "print(elements)\r\n",
    "size = int(len(elements)/2)\r\n",
    "print(size)\r\n",
    "print(elements[0:size])\r\n",
    "print(elements[size: len(elements)])\r\n",
    "aux = list(elements[0:size])\r\n",
    "print('merged: ', aux + list(elements[size: len(elements)]))"
   ],
   "outputs": [],
   "metadata": {}
  },
  {
   "cell_type": "code",
   "execution_count": null,
   "source": [],
   "outputs": [],
   "metadata": {}
  }
 ],
 "metadata": {
  "orig_nbformat": 4,
  "language_info": {
   "name": "python",
   "version": "3.8.11",
   "mimetype": "text/x-python",
   "codemirror_mode": {
    "name": "ipython",
    "version": 3
   },
   "pygments_lexer": "ipython3",
   "nbconvert_exporter": "python",
   "file_extension": ".py"
  },
  "kernelspec": {
   "name": "python3",
   "display_name": "Python 3.8.11 64-bit"
  },
  "interpreter": {
   "hash": "b3ba2566441a7c06988d0923437866b63cedc61552a5af99d1f4fb67d367b25f"
  }
 },
 "nbformat": 4,
 "nbformat_minor": 2
}
